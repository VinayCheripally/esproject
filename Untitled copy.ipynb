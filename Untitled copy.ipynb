{
 "cells": [
  {
   "cell_type": "code",
   "execution_count": 2,
   "id": "56bd73b8-117e-46fd-8400-c6285793f0ba",
   "metadata": {},
   "outputs": [],
   "source": [
    "import pandas as pd\n",
    "from sklearn.model_selection import train_test_split\n",
    "from sklearn.linear_model import LinearRegression\n",
    "from sklearn.preprocessing import StandardScaler\n"
   ]
  },
  {
   "cell_type": "code",
   "execution_count": 9,
   "id": "a3f030d8-53e7-44fe-ba48-e3b132e3ef5e",
   "metadata": {},
   "outputs": [
    {
     "name": "stdout",
     "output_type": "stream",
     "text": [
      "Enter the dataset file name:  dis2.csv\n"
     ]
    }
   ],
   "source": [
    "dataset_choice = input(\"Enter the dataset file name: \")\n",
    "if dataset_choice == 'dis1.csv':\n",
    "    df = pd.read_csv('dis1.csv')\n",
    "    # Additional preprocessing or visualization for dis1.csv if needed\n",
    "elif dataset_choice == 'dis2.csv':\n",
    "    df = pd.read_csv('dis2.csv')\n",
    "    # Additional preprocessing or visualization for dis2.csv if needed\n",
    "elif dataset_choice == 'dis3.csv':\n",
    "    df = pd.read_csv('dis3.csv')\n",
    "    # Additional preprocessing or visualization for dis3.csv if needed\n",
    "elif dataset_choice == 'dis4.csv':\n",
    "    df = pd.read_csv('dis4.csv')\n",
    "    # Additional preprocessing or visualization for dis4.csv if needed\n",
    "else:\n",
    "    print(\"Invalid dataset choice. Please select from dis1.csv, dis2.csv, dis3.csv, or dis4.csv.\")\n",
    "    exit()"
   ]
  },
  {
   "cell_type": "code",
   "execution_count": 10,
   "id": "3a4bc6cc-5501-4837-ab09-056765dcdef8",
   "metadata": {},
   "outputs": [
    {
     "data": {
      "text/html": [
       "<div>\n",
       "<style scoped>\n",
       "    .dataframe tbody tr th:only-of-type {\n",
       "        vertical-align: middle;\n",
       "    }\n",
       "\n",
       "    .dataframe tbody tr th {\n",
       "        vertical-align: top;\n",
       "    }\n",
       "\n",
       "    .dataframe thead th {\n",
       "        text-align: right;\n",
       "    }\n",
       "</style>\n",
       "<table border=\"1\" class=\"dataframe\">\n",
       "  <thead>\n",
       "    <tr style=\"text-align: right;\">\n",
       "      <th></th>\n",
       "      <th>pH</th>\n",
       "    </tr>\n",
       "  </thead>\n",
       "  <tbody>\n",
       "    <tr>\n",
       "      <th>0</th>\n",
       "      <td>4.60272</td>\n",
       "    </tr>\n",
       "    <tr>\n",
       "      <th>1</th>\n",
       "      <td>5.07436</td>\n",
       "    </tr>\n",
       "    <tr>\n",
       "      <th>2</th>\n",
       "      <td>5.40977</td>\n",
       "    </tr>\n",
       "    <tr>\n",
       "      <th>3</th>\n",
       "      <td>4.79002</td>\n",
       "    </tr>\n",
       "    <tr>\n",
       "      <th>4</th>\n",
       "      <td>5.34269</td>\n",
       "    </tr>\n",
       "    <tr>\n",
       "      <th>...</th>\n",
       "      <td>...</td>\n",
       "    </tr>\n",
       "    <tr>\n",
       "      <th>175</th>\n",
       "      <td>5.11451</td>\n",
       "    </tr>\n",
       "    <tr>\n",
       "      <th>176</th>\n",
       "      <td>4.73605</td>\n",
       "    </tr>\n",
       "    <tr>\n",
       "      <th>177</th>\n",
       "      <td>4.52453</td>\n",
       "    </tr>\n",
       "    <tr>\n",
       "      <th>178</th>\n",
       "      <td>4.50217</td>\n",
       "    </tr>\n",
       "    <tr>\n",
       "      <th>179</th>\n",
       "      <td>5.14562</td>\n",
       "    </tr>\n",
       "  </tbody>\n",
       "</table>\n",
       "<p>180 rows × 1 columns</p>\n",
       "</div>"
      ],
      "text/plain": [
       "          pH\n",
       "0    4.60272\n",
       "1    5.07436\n",
       "2    5.40977\n",
       "3    4.79002\n",
       "4    5.34269\n",
       "..       ...\n",
       "175  5.11451\n",
       "176  4.73605\n",
       "177  4.52453\n",
       "178  4.50217\n",
       "179  5.14562\n",
       "\n",
       "[180 rows x 1 columns]"
      ]
     },
     "execution_count": 10,
     "metadata": {},
     "output_type": "execute_result"
    }
   ],
   "source": [
    "df\n"
   ]
  },
  {
   "cell_type": "code",
   "execution_count": 11,
   "id": "7a62dbce-fe59-4f81-81e5-6318fa3f7947",
   "metadata": {},
   "outputs": [],
   "source": [
    "forecast_col = 'pH'\n",
    "forecast_out = 12\n",
    "\n",
    "# Perform operations on 'df' after it's initialized\n",
    "df['label'] = df[forecast_col].shift(-forecast_out)\n",
    "df.dropna(inplace=True)\n",
    "X = df[['pH']].values\n",
    "y = df['label'].values"
   ]
  },
  {
   "cell_type": "code",
   "execution_count": 12,
   "id": "d666cd32-e934-4e7d-b7e6-f3daf185aa65",
   "metadata": {},
   "outputs": [],
   "source": [
    "scaler = StandardScaler()\n",
    "X_scaled = scaler.fit_transform(X)"
   ]
  },
  {
   "cell_type": "code",
   "execution_count": 13,
   "id": "4107342c-c838-4f91-beed-7ea8073b9a03",
   "metadata": {},
   "outputs": [
    {
     "name": "stdout",
     "output_type": "stream",
     "text": [
      "Forecasted pH value at index 3: 4.973635324450498\n"
     ]
    }
   ],
   "source": [
    "X_train, X_test, y_train, y_test = train_test_split(X_scaled, y, test_size=0.2)\n",
    "\n",
    "clf = LinearRegression()\n",
    "clf.fit(X_train, y_train)\n",
    "\n",
    "X_lately = X_scaled[-forecast_out:]\n",
    "forecast_set = clf.predict(X_lately)\n",
    "print(f\"Forecasted pH value at index 3: {forecast_set[3]}\")"
   ]
  },
  {
   "cell_type": "code",
   "execution_count": null,
   "id": "edcdeb5d-b7d5-4a8e-80dc-8dea8a1c9c58",
   "metadata": {},
   "outputs": [],
   "source": []
  }
 ],
 "metadata": {
  "kernelspec": {
   "display_name": "Python 3 (ipykernel)",
   "language": "python",
   "name": "python3"
  },
  "language_info": {
   "codemirror_mode": {
    "name": "ipython",
    "version": 3
   },
   "file_extension": ".py",
   "mimetype": "text/x-python",
   "name": "python",
   "nbconvert_exporter": "python",
   "pygments_lexer": "ipython3",
   "version": "3.11.5"
  }
 },
 "nbformat": 4,
 "nbformat_minor": 5
}
